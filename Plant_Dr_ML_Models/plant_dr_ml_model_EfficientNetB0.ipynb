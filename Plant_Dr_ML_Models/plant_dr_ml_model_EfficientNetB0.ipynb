{
 "cells": [
  {
   "cell_type": "code",
   "execution_count": 7,
   "id": "80e1d33e-970a-43fe-9e6c-b24bb3414e76",
   "metadata": {},
   "outputs": [],
   "source": [
    "import pandas as pd\n",
    "import tensorflow as tf\n",
    "from tensorflow.keras.preprocessing.image import ImageDataGenerator\n",
    "from tensorflow.keras.applications import EfficientNetB0\n",
    "from tensorflow.keras.layers import Dense, GlobalAveragePooling2D\n",
    "from tensorflow.keras.models import Model\n",
    "from sklearn.decomposition import PCA\n",
    "from sklearn.cluster import KMeans\n",
    "import matplotlib.pyplot as plt\n",
    "import os\n",
    "from sklearn.model_selection import train_test_split\n",
    "import numpy as np\n"
   ]
  },
  {
   "cell_type": "code",
   "execution_count": 2,
   "id": "f6df9349-1938-460b-a9a1-7970ceb0cef6",
   "metadata": {},
   "outputs": [
    {
     "name": "stdout",
     "output_type": "stream",
     "text": [
      "Training set size: 56641\n",
      "Validation set size: 12137\n",
      "Test set size: 12138\n",
      "Found 56641 validated image filenames belonging to 171 classes.\n",
      "Found 12137 validated image filenames belonging to 171 classes.\n",
      "Found 12138 validated image filenames belonging to 171 classes.\n",
      "Epoch 1/7\n"
     ]
    },
    {
     "name": "stderr",
     "output_type": "stream",
     "text": [
      "/opt/anaconda3/lib/python3.11/site-packages/keras/src/trainers/data_adapters/py_dataset_adapter.py:122: UserWarning: Your `PyDataset` class should call `super().__init__(**kwargs)` in its constructor. `**kwargs` can include `workers`, `use_multiprocessing`, `max_queue_size`. Do not pass these arguments to `fit()`, as they will be ignored.\n",
      "  self._warn_if_super_not_called()\n"
     ]
    },
    {
     "name": "stdout",
     "output_type": "stream",
     "text": [
      "\u001b[1m1771/1771\u001b[0m \u001b[32m━━━━━━━━━━━━━━━━━━━━\u001b[0m\u001b[37m\u001b[0m \u001b[1m841s\u001b[0m 469ms/step - accuracy: 0.0634 - loss: 4.2645 - val_accuracy: 0.0662 - val_loss: 4.2227\n",
      "Epoch 2/7\n",
      "\u001b[1m1771/1771\u001b[0m \u001b[32m━━━━━━━━━━━━━━━━━━━━\u001b[0m\u001b[37m\u001b[0m \u001b[1m845s\u001b[0m 477ms/step - accuracy: 0.0668 - loss: 4.2099 - val_accuracy: 0.0681 - val_loss: 4.2121\n",
      "Epoch 3/7\n",
      "\u001b[1m1771/1771\u001b[0m \u001b[32m━━━━━━━━━━━━━━━━━━━━\u001b[0m\u001b[37m\u001b[0m \u001b[1m871s\u001b[0m 491ms/step - accuracy: 0.0676 - loss: 4.2040 - val_accuracy: 0.0662 - val_loss: 4.2116\n",
      "Epoch 4/7\n",
      "\u001b[1m1771/1771\u001b[0m \u001b[32m━━━━━━━━━━━━━━━━━━━━\u001b[0m\u001b[37m\u001b[0m \u001b[1m864s\u001b[0m 488ms/step - accuracy: 0.0688 - loss: 4.2094 - val_accuracy: 0.0629 - val_loss: 4.2099\n",
      "Epoch 5/7\n",
      "\u001b[1m1771/1771\u001b[0m \u001b[32m━━━━━━━━━━━━━━━━━━━━\u001b[0m\u001b[37m\u001b[0m \u001b[1m931s\u001b[0m 525ms/step - accuracy: 0.0675 - loss: 4.2044 - val_accuracy: 0.0662 - val_loss: 4.2034\n",
      "Epoch 6/7\n",
      "\u001b[1m1771/1771\u001b[0m \u001b[32m━━━━━━━━━━━━━━━━━━━━\u001b[0m\u001b[37m\u001b[0m \u001b[1m947s\u001b[0m 534ms/step - accuracy: 0.0664 - loss: 4.2071 - val_accuracy: 0.0662 - val_loss: 4.2107\n",
      "Epoch 7/7\n",
      "\u001b[1m1771/1771\u001b[0m \u001b[32m━━━━━━━━━━━━━━━━━━━━\u001b[0m\u001b[37m\u001b[0m \u001b[1m892s\u001b[0m 503ms/step - accuracy: 0.0648 - loss: 4.2075 - val_accuracy: 0.0681 - val_loss: 4.2041\n",
      "\u001b[1m380/380\u001b[0m \u001b[32m━━━━━━━━━━━━━━━━━━━━\u001b[0m\u001b[37m\u001b[0m \u001b[1m162s\u001b[0m 426ms/step - accuracy: 0.0668 - loss: 4.1801\n",
      "Test Accuracy: 6.81%\n"
     ]
    }
   ],
   "source": [
    "# Supervised Learning\n",
    "\n",
    "# Paths\n",
    "merged_dataset_path = '/Users/maggie/Desktop/project_3/Plant_ID_and_Diagnosis/Resources/plant_dr_master_dataset/master_dataset'\n",
    "combined_csv_path = '/Users/maggie/Desktop/project_3/Plant_ID_and_Diagnosis/Resources/plant_dr_master_dataset/master_dataset/combined_labels.csv'\n",
    "\n",
    "# Load the CSV file\n",
    "df = pd.read_csv(combined_csv_path)\n",
    "\n",
    "# Split the dataset into train, validation, and test sets\n",
    "train_df, temp_df = train_test_split(df, test_size=0.3, stratify=df['label'], random_state=42)\n",
    "valid_df, test_df = train_test_split(temp_df, test_size=0.5, stratify=temp_df['label'], random_state=42)\n",
    "\n",
    "# Print the distribution to verify the split\n",
    "print(f\"Training set size: {len(train_df)}\")\n",
    "print(f\"Validation set size: {len(valid_df)}\")\n",
    "print(f\"Test set size: {len(test_df)}\")\n",
    "\n",
    "# ImageDataGenerator setup\n",
    "img_size = (128, 128)\n",
    "datagen = ImageDataGenerator(\n",
    "    rescale=1./255,\n",
    "    validation_split=0.2,\n",
    "    rotation_range=20,       # Randomly rotate images in the range (degrees, 0 to 180)\n",
    "    width_shift_range=0.2,   # Randomly shift images horizontally (fraction of total width)\n",
    "    height_shift_range=0.2,  # Randomly shift images vertically (fraction of total height)\n",
    "    shear_range=0.2,         # Shear Intensity (Shear angle in counter-clockwise direction in degrees)\n",
    "    zoom_range=0.2,          # Randomly zoom image\n",
    "    horizontal_flip=True,    # Randomly flip images horizontally\n",
    "    fill_mode='nearest'      # Points outside the boundaries of the input are filled according to the given mode\n",
    ")\n",
    "\n",
    "# Load training data using flow_from_dataframe\n",
    "train_generator = datagen.flow_from_dataframe(\n",
    "    dataframe=train_df,\n",
    "    directory=merged_dataset_path,\n",
    "    x_col='filename',  # Column name in the CSV file that contains the image file names\n",
    "    y_col='label',  # Column name in the CSV file that contains the labels\n",
    "    target_size=img_size,\n",
    "    batch_size=32,\n",
    "    class_mode='categorical'\n",
    ")\n",
    "\n",
    "# Load validation data using flow_from_dataframe\n",
    "valid_generator = datagen.flow_from_dataframe(\n",
    "    dataframe=valid_df,\n",
    "    directory=merged_dataset_path,\n",
    "    x_col='filename',\n",
    "    y_col='label',\n",
    "    target_size=img_size,\n",
    "    batch_size=32,\n",
    "    class_mode='categorical'\n",
    ")\n",
    "\n",
    "# Load test data using flow_from_dataframe\n",
    "test_generator = datagen.flow_from_dataframe(\n",
    "    dataframe=test_df,\n",
    "    directory=merged_dataset_path,\n",
    "    x_col='filename',\n",
    "    y_col='label',\n",
    "    target_size=img_size,\n",
    "    batch_size=32,\n",
    "    class_mode='categorical',\n",
    "    shuffle=False  # No need to shuffle for testing\n",
    ")\n",
    "\n",
    "# Load the base model (EfficientNetB0)\n",
    "base_model = EfficientNetB0(weights='imagenet', include_top=False, input_shape=(128, 128, 3))\n",
    "\n",
    "# Freeze base model layers\n",
    "for layer in base_model.layers:\n",
    "    layer.trainable = False\n",
    "\n",
    "# Add custom layers\n",
    "x1 = GlobalAveragePooling2D()(base_model.output)\n",
    "x2 = Dense(1024, activation='relu')(x1)\n",
    "\n",
    "# Determine the number of classes\n",
    "num_classes = len(train_generator.class_indices)  # Number of unique classes\n",
    "\n",
    "# Output layer\n",
    "x3 = Dense(num_classes, activation='softmax')(x2)\n",
    "\n",
    "model = Model(inputs=base_model.input, outputs=x3)\n",
    "\n",
    "# Compile the model\n",
    "model.compile(optimizer='adam', loss='categorical_crossentropy', metrics=['accuracy'])\n",
    "\n",
    "# Train the model\n",
    "model.fit(train_generator, validation_data=valid_generator, epochs=7)\n",
    "\n",
    "# Evaluate the model on the test set\n",
    "test_loss, test_accuracy = model.evaluate(test_generator)\n",
    "print(f\"Test Accuracy: {test_accuracy * 100:.2f}%\")\n"
   ]
  },
  {
   "cell_type": "code",
   "execution_count": 3,
   "id": "d609b2e8-ab91-4683-928b-8a060b34a45b",
   "metadata": {},
   "outputs": [
    {
     "name": "stdout",
     "output_type": "stream",
     "text": [
      "\u001b[1m380/380\u001b[0m \u001b[32m━━━━━━━━━━━━━━━━━━━━\u001b[0m\u001b[37m\u001b[0m \u001b[1m160s\u001b[0m 420ms/step - accuracy: 0.0723 - loss: 4.2003\n",
      "Validation Loss: 4.204121112823486\n",
      "Validation Accuracy: 0.06805635988712311\n"
     ]
    }
   ],
   "source": [
    "# Evaluate the model on the validation set\n",
    "\n",
    "val_loss, val_accuracy = model.evaluate(valid_generator)\n",
    "print(f\"Validation Loss: {val_loss}\")\n",
    "print(f\"Validation Accuracy: {val_accuracy}\")\n"
   ]
  },
  {
   "cell_type": "code",
   "execution_count": 4,
   "id": "7b472f24-f938-4a2f-8817-04bf0ae5402e",
   "metadata": {},
   "outputs": [
    {
     "name": "stdout",
     "output_type": "stream",
     "text": [
      "Epoch 1/8\n",
      "\u001b[1m1771/1771\u001b[0m \u001b[32m━━━━━━━━━━━━━━━━━━━━\u001b[0m\u001b[37m\u001b[0m \u001b[1m973s\u001b[0m 542ms/step - accuracy: 0.0703 - loss: 4.2519 - val_accuracy: 0.0681 - val_loss: 4.2072\n",
      "Epoch 2/8\n",
      "\u001b[1m1771/1771\u001b[0m \u001b[32m━━━━━━━━━━━━━━━━━━━━\u001b[0m\u001b[37m\u001b[0m \u001b[1m946s\u001b[0m 533ms/step - accuracy: 0.0668 - loss: 4.1949 - val_accuracy: 0.0681 - val_loss: 4.2060\n",
      "Epoch 3/8\n",
      "\u001b[1m1771/1771\u001b[0m \u001b[32m━━━━━━━━━━━━━━━━━━━━\u001b[0m\u001b[37m\u001b[0m \u001b[1m949s\u001b[0m 535ms/step - accuracy: 0.0675 - loss: 4.2018 - val_accuracy: 0.0662 - val_loss: 4.1907\n",
      "Epoch 4/8\n",
      "\u001b[1m1771/1771\u001b[0m \u001b[32m━━━━━━━━━━━━━━━━━━━━\u001b[0m\u001b[37m\u001b[0m \u001b[1m921s\u001b[0m 519ms/step - accuracy: 0.0699 - loss: 4.1843 - val_accuracy: 0.0739 - val_loss: 4.1785\n",
      "Epoch 5/8\n",
      "\u001b[1m1771/1771\u001b[0m \u001b[32m━━━━━━━━━━━━━━━━━━━━\u001b[0m\u001b[37m\u001b[0m \u001b[1m942s\u001b[0m 531ms/step - accuracy: 0.0699 - loss: 4.1804 - val_accuracy: 0.0662 - val_loss: 4.1698\n",
      "Epoch 6/8\n",
      "\u001b[1m1771/1771\u001b[0m \u001b[32m━━━━━━━━━━━━━━━━━━━━\u001b[0m\u001b[37m\u001b[0m \u001b[1m940s\u001b[0m 530ms/step - accuracy: 0.0700 - loss: 4.1699 - val_accuracy: 0.0662 - val_loss: 4.1600\n",
      "Epoch 7/8\n",
      "\u001b[1m1771/1771\u001b[0m \u001b[32m━━━━━━━━━━━━━━━━━━━━\u001b[0m\u001b[37m\u001b[0m \u001b[1m951s\u001b[0m 536ms/step - accuracy: 0.0745 - loss: 4.1597 - val_accuracy: 0.0664 - val_loss: 4.1456\n",
      "Epoch 8/8\n",
      "\u001b[1m1771/1771\u001b[0m \u001b[32m━━━━━━━━━━━━━━━━━━━━\u001b[0m\u001b[37m\u001b[0m \u001b[1m920s\u001b[0m 519ms/step - accuracy: 0.0737 - loss: 4.1454 - val_accuracy: 0.0803 - val_loss: 4.1764\n"
     ]
    }
   ],
   "source": [
    "# Unfreeze the last few layers of the EfficientNetB0 model for fine-tuning\n",
    "for layer in base_model.layers[-20:]:  # Unfreeze the last 20 layers\n",
    "    layer.trainable = True\n",
    "\n",
    "# Recompile the model with a lower learning rate for fine-tuning\n",
    "model.compile(optimizer=tf.keras.optimizers.Adam(learning_rate=1e-5),\n",
    "              loss='categorical_crossentropy', metrics=['accuracy'])\n",
    "\n",
    "# Re-train the model with fine-tuning\n",
    "fine_tune_history = model.fit(\n",
    "    train_generator,\n",
    "    validation_data=valid_generator,\n",
    "    epochs=8\n",
    ")\n"
   ]
  },
  {
   "cell_type": "code",
   "execution_count": 5,
   "id": "df6b29f8-b2c4-45a1-ae44-91ef452df0e2",
   "metadata": {},
   "outputs": [
    {
     "name": "stdout",
     "output_type": "stream",
     "text": [
      "\u001b[1m380/380\u001b[0m \u001b[32m━━━━━━━━━━━━━━━━━━━━\u001b[0m\u001b[37m\u001b[0m \u001b[1m144s\u001b[0m 379ms/step - accuracy: 0.0856 - loss: 4.1550\n",
      "Validation Loss: 4.176595687866211\n",
      "Validation Accuracy: 0.07901458442211151\n"
     ]
    }
   ],
   "source": [
    "# Evaluate the model on the validation set\n",
    "\n",
    "val_loss, val_accuracy = model.evaluate(valid_generator)\n",
    "print(f\"Validation Loss: {val_loss}\")\n",
    "print(f\"Validation Accuracy: {val_accuracy}\")\n"
   ]
  },
  {
   "cell_type": "code",
   "execution_count": 8,
   "id": "b986ddd9-093b-41dd-80dd-6b4adc7672cc",
   "metadata": {},
   "outputs": [
    {
     "name": "stdout",
     "output_type": "stream",
     "text": [
      "\u001b[1m380/380\u001b[0m \u001b[32m━━━━━━━━━━━━━━━━━━━━\u001b[0m\u001b[37m\u001b[0m \u001b[1m50s\u001b[0m 132ms/step\n"
     ]
    },
    {
     "ename": "NameError",
     "evalue": "name 'keras_image' is not defined",
     "output_type": "error",
     "traceback": [
      "\u001b[0;31m---------------------------------------------------------------------------\u001b[0m",
      "\u001b[0;31mNameError\u001b[0m                                 Traceback (most recent call last)",
      "Cell \u001b[0;32mIn[8], line 20\u001b[0m\n\u001b[1;32m     18\u001b[0m \u001b[38;5;66;03m# Load and preprocess the image\u001b[39;00m\n\u001b[1;32m     19\u001b[0m img_path \u001b[38;5;241m=\u001b[39m test_generator\u001b[38;5;241m.\u001b[39mfilepaths[index]\n\u001b[0;32m---> 20\u001b[0m img \u001b[38;5;241m=\u001b[39m keras_image\u001b[38;5;241m.\u001b[39mload_img(img_path, target_size\u001b[38;5;241m=\u001b[39m(\u001b[38;5;241m128\u001b[39m, \u001b[38;5;241m128\u001b[39m))\n\u001b[1;32m     21\u001b[0m img \u001b[38;5;241m=\u001b[39m keras_image\u001b[38;5;241m.\u001b[39mimg_to_array(img)\n\u001b[1;32m     22\u001b[0m img \u001b[38;5;241m=\u001b[39m np\u001b[38;5;241m.\u001b[39mexpand_dims(img, axis\u001b[38;5;241m=\u001b[39m\u001b[38;5;241m0\u001b[39m)\n",
      "\u001b[0;31mNameError\u001b[0m: name 'keras_image' is not defined"
     ]
    },
    {
     "data": {
      "image/png": "[encoded data removed]",
      "text/plain": [
       "<Figure size 1500x1500 with 1 Axes>"
      ]
     },
     "metadata": {},
     "output_type": "display_data"
    }
   ],
   "source": [
    "# Obtain predictions for the test set\n",
    "predictions = model.predict(test_generator)\n",
    "predicted_labels = np.argmax(predictions, axis=1)\n",
    "true_labels = test_generator.classes\n",
    "\n",
    "# Identify misclassified indices\n",
    "misclassified_indices = np.where(predicted_labels != true_labels)[0]\n",
    "\n",
    "# Map class indices to class labels\n",
    "class_labels = list(test_generator.class_indices.keys())\n",
    "\n",
    "# Display some misclassified images\n",
    "num_misclassified_to_display = 10  # Number of misclassified images to display\n",
    "plt.figure(figsize=(15, 15))\n",
    "for i, index in enumerate(misclassified_indices[:num_misclassified_to_display]):\n",
    "    plt.subplot(5, 2, i + 1)\n",
    "    \n",
    "    # Load and preprocess the image\n",
    "    img_path = test_generator.filepaths[index]\n",
    "    img = keras_image.load_img(img_path, target_size=(128, 128))\n",
    "    img = keras_image.img_to_array(img)\n",
    "    img = np.expand_dims(img, axis=0)\n",
    "    img = img / 255.0  # Rescale if needed\n",
    "    \n",
    "    plt.imshow(img[0])\n",
    "    plt.axis('off')\n",
    "    \n",
    "    true_label = class_labels[true_labels[index]]\n",
    "    predicted_label = class_labels[predicted_labels[index]]\n",
    "    plt.title(f\"True: {true_label}\\nPred: {predicted_label}\")\n",
    "\n",
    "plt.tight_layout()\n",
    "plt.show()\n"
   ]
  },
  {
   "cell_type": "code",
   "execution_count": null,
   "id": "39c4f6f1-4de6-4c29-a656-1d72b996ac36",
   "metadata": {},
   "outputs": [],
   "source": []
  },
  {
   "cell_type": "code",
   "execution_count": null,
   "id": "6c5ac30d-4406-4b21-90bf-f2deacc203fd",
   "metadata": {},
   "outputs": [],
   "source": [
    "# # Unsupervised Learning - Apply only after training is complete\n",
    "\n",
    "# # Extract features\n",
    "# feature_model = Model(inputs=model.input, outputs=model.layers[-2].output)  # Using the layer before the output\n",
    "# features = feature_model.predict(train_generator)  # Using the training set for feature extraction\n",
    "\n",
    "# # Apply PCA\n",
    "# pca = PCA(n_components=50)\n",
    "# reduced_features = pca.fit_transform(features)\n",
    "\n",
    "# # Apply K-Means Clustering\n",
    "# kmeans = KMeans(n_clusters=10)\n",
    "# clusters = kmeans.fit_predict(reduced_features)\n",
    "\n",
    "# # Visualize clusters\n",
    "# plt.figure(figsize=(10, 7))\n",
    "# plt.scatter(reduced_features[:, 0], reduced_features[:, 1], c=clusters, cmap='viridis')\n",
    "# plt.colorbar()\n",
    "# plt.title('K-Means Clustering of Plant and Ailment Features')\n",
    "# plt.xlabel('PCA Component 1')\n",
    "# plt.ylabel('PCA Component 2')\n",
    "# plt.show()\n"
   ]
  },
  {
   "cell_type": "code",
   "execution_count": null,
   "id": "2e009e00-c7d2-432a-9f6c-a5ac36b40276",
   "metadata": {},
   "outputs": [],
   "source": []
  }
 ],
 "metadata": {
  "kernelspec": {
   "display_name": "Python 3 (ipykernel)",
   "language": "python",
   "name": "python3"
  },
  "language_info": {
   "codemirror_mode": {
    "name": "ipython",
    "version": 3
   },
   "file_extension": ".py",
   "mimetype": "text/x-python",
   "name": "python",
   "nbconvert_exporter": "python",
   "pygments_lexer": "ipython3",
   "version": "3.11.7"
  }
 },
 "nbformat": 4,
 "nbformat_minor": 5
}
